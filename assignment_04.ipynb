{
 "cells": [
  {
   "cell_type": "markdown",
   "metadata": {},
   "source": [
    "# 1. LeetCode 225. Implement Stack using Queues"
   ]
  },
  {
   "cell_type": "code",
   "execution_count": 1,
   "metadata": {},
   "outputs": [
    {
     "name": "stdout",
     "output_type": "stream",
     "text": [
      "2\n",
      "2\n",
      "False\n"
     ]
    }
   ],
   "source": [
    "from collections import deque\n",
    "\n",
    "class MyStack:\n",
    "    def __init__(self):\n",
    "        \"\"\"\n",
    "        두 개의 큐를 사용하여 스택을 구현합니다.\n",
    "        여기서는 queue1만 주로 사용하고,\n",
    "        push할 때는 queue1에 추가 후, queue1에서 원소를 꺼내 queue1에 다시 넣는 방식으로\n",
    "        후입선출의 구조를 만들 수 있습니다.\n",
    "        \"\"\"\n",
    "        self.queue = deque()\n",
    "        \n",
    "    def push(self, x: int) -> None:\n",
    "        # 1) 새로운 원소를 큐에 먼저 넣기\n",
    "        self.queue.append(x)\n",
    "        # 2) 큐에 있던 원소들을 새 원소 뒤로 다시 재배치(회전)\n",
    "        for _ in range(len(self.queue) - 1):\n",
    "            self.queue.append(self.queue.popleft())\n",
    "\n",
    "    def pop(self) -> int:\n",
    "        # 큐의 맨 왼쪽(front)가 스택의 top이 됩니다.\n",
    "        return self.queue.popleft()\n",
    "\n",
    "    def top(self) -> int:\n",
    "        # pop 하지 않고, 큐의 맨 앞 원소 확인\n",
    "        return self.queue[0]\n",
    "\n",
    "    def empty(self) -> bool:\n",
    "        return len(self.queue) == 0\n",
    "\n",
    "# 간단 테스트\n",
    "if __name__ == \"__main__\":\n",
    "    myStack = MyStack()\n",
    "    myStack.push(1)\n",
    "    myStack.push(2)\n",
    "    print(myStack.top())  # 2\n",
    "    print(myStack.pop())  # 2\n",
    "    print(myStack.empty())# False\n"
   ]
  },
  {
   "cell_type": "markdown",
   "metadata": {},
   "source": [
    "# 2. LeetCode 232. Implement Queue using Stacks"
   ]
  },
  {
   "cell_type": "code",
   "execution_count": 2,
   "metadata": {},
   "outputs": [
    {
     "name": "stdout",
     "output_type": "stream",
     "text": [
      "1\n",
      "1\n",
      "False\n"
     ]
    }
   ],
   "source": [
    "class MyQueue:\n",
    "    def __init__(self):\n",
    "        \"\"\"\n",
    "        두 개의 스택을 사용하여 큐를 구현합니다.\n",
    "        inputStack 에 push하고,\n",
    "        pop/peek 시 outputStack 이 비어 있으면 inputStack에서 pop하여 outputStack으로 옮겨 담고 사용합니다.\n",
    "        \"\"\"\n",
    "        self.inputStack = []\n",
    "        self.outputStack = []\n",
    "\n",
    "    def push(self, x: int) -> None:\n",
    "        self.inputStack.append(x)\n",
    "        \n",
    "    def pop(self) -> int:\n",
    "        self._shiftStacks()\n",
    "        return self.outputStack.pop()\n",
    "\n",
    "    def peek(self) -> int:\n",
    "        self._shiftStacks()\n",
    "        return self.outputStack[-1]\n",
    "\n",
    "    def empty(self) -> bool:\n",
    "        return not self.inputStack and not self.outputStack\n",
    "\n",
    "    def _shiftStacks(self):\n",
    "        \"\"\"\n",
    "        outputStack이 비어 있으면 inputStack에서 모두 pop하여 outputStack에 넣는다.\n",
    "        이를 통해 큐의 front가 outputStack top에 위치하게 된다.\n",
    "        \"\"\"\n",
    "        if not self.outputStack:\n",
    "            while self.inputStack:\n",
    "                self.outputStack.append(self.inputStack.pop())\n",
    "\n",
    "# 간단 테스트\n",
    "if __name__ == \"__main__\":\n",
    "    myQueue = MyQueue()\n",
    "    myQueue.push(1)      # queue: [1]\n",
    "    myQueue.push(2)      # queue: [1, 2]\n",
    "    print(myQueue.peek())# 1\n",
    "    print(myQueue.pop()) # 1\n",
    "    print(myQueue.empty())# False\n",
    "\n"
   ]
  },
  {
   "cell_type": "code",
   "execution_count": 4,
   "metadata": {},
   "outputs": [],
   "source": [
    "# 3. 교재의 큐 연습문제 전부\n",
    "\n",
    "# 다음 시간에 **교재의 큐 연습문제** 답안을 받아서,  \n",
    "# 이곳에 풀이/코드/설명을 추가하시면 됩니다.\n"
   ]
  },
  {
   "cell_type": "code",
   "execution_count": null,
   "metadata": {},
   "outputs": [],
   "source": []
  }
 ],
 "metadata": {
  "kernelspec": {
   "display_name": "Python 3",
   "language": "python",
   "name": "python3"
  },
  "language_info": {
   "codemirror_mode": {
    "name": "ipython",
    "version": 3
   },
   "file_extension": ".py",
   "mimetype": "text/x-python",
   "name": "python",
   "nbconvert_exporter": "python",
   "pygments_lexer": "ipython3",
   "version": "3.9.6"
  },
  "orig_nbformat": 4
 },
 "nbformat": 4,
 "nbformat_minor": 2
}
