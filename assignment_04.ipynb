{
 "cells": [
  {
   "cell_type": "markdown",
   "metadata": {},
   "source": [
    "# 1. LeetCode 225. Implement Stack using Queues"
   ]
  },
  {
   "cell_type": "code",
   "execution_count": 1,
   "metadata": {},
   "outputs": [
    {
     "name": "stdout",
     "output_type": "stream",
     "text": [
      "2\n",
      "2\n",
      "False\n"
     ]
    }
   ],
   "source": [
    "from collections import deque\n",
    "\n",
    "class MyStack:\n",
    "    def __init__(self):\n",
    "        \"\"\"\n",
    "        두 개의 큐를 사용하여 스택을 구현합니다.\n",
    "        여기서는 queue1만 주로 사용하고,\n",
    "        push할 때는 queue1에 추가 후, queue1에서 원소를 꺼내 queue1에 다시 넣는 방식으로\n",
    "        후입선출의 구조를 만들 수 있습니다.\n",
    "        \"\"\"\n",
    "        self.queue = deque()\n",
    "        \n",
    "    def push(self, x: int) -> None:\n",
    "        # 1) 새로운 원소를 큐에 먼저 넣기\n",
    "        self.queue.append(x)\n",
    "        # 2) 큐에 있던 원소들을 새 원소 뒤로 다시 재배치(회전)\n",
    "        for _ in range(len(self.queue) - 1):\n",
    "            self.queue.append(self.queue.popleft())\n",
    "\n",
    "    def pop(self) -> int:\n",
    "        # 큐의 맨 왼쪽(front)가 스택의 top이 됩니다.\n",
    "        return self.queue.popleft()\n",
    "\n",
    "    def top(self) -> int:\n",
    "        # pop 하지 않고, 큐의 맨 앞 원소 확인\n",
    "        return self.queue[0]\n",
    "\n",
    "    def empty(self) -> bool:\n",
    "        return len(self.queue) == 0\n",
    "\n",
    "# 간단 테스트\n",
    "if __name__ == \"__main__\":\n",
    "    myStack = MyStack()\n",
    "    myStack.push(1)\n",
    "    myStack.push(2)\n",
    "    print(myStack.top())  # 2\n",
    "    print(myStack.pop())  # 2\n",
    "    print(myStack.empty())# False\n"
   ]
  },
  {
   "cell_type": "markdown",
   "metadata": {},
   "source": [
    "# 2. LeetCode 232. Implement Queue using Stacks"
   ]
  },
  {
   "cell_type": "code",
   "execution_count": 2,
   "metadata": {},
   "outputs": [
    {
     "name": "stdout",
     "output_type": "stream",
     "text": [
      "1\n",
      "1\n",
      "False\n"
     ]
    }
   ],
   "source": [
    "class MyQueue:\n",
    "    def __init__(self):\n",
    "        \"\"\"\n",
    "        두 개의 스택을 사용하여 큐를 구현합니다.\n",
    "        inputStack 에 push하고,\n",
    "        pop/peek 시 outputStack 이 비어 있으면 inputStack에서 pop하여 outputStack으로 옮겨 담고 사용합니다.\n",
    "        \"\"\"\n",
    "        self.inputStack = []\n",
    "        self.outputStack = []\n",
    "\n",
    "    def push(self, x: int) -> None:\n",
    "        self.inputStack.append(x)\n",
    "        \n",
    "    def pop(self) -> int:\n",
    "        self._shiftStacks()\n",
    "        return self.outputStack.pop()\n",
    "\n",
    "    def peek(self) -> int:\n",
    "        self._shiftStacks()\n",
    "        return self.outputStack[-1]\n",
    "\n",
    "    def empty(self) -> bool:\n",
    "        return not self.inputStack and not self.outputStack\n",
    "\n",
    "    def _shiftStacks(self):\n",
    "        \"\"\"\n",
    "        outputStack이 비어 있으면 inputStack에서 모두 pop하여 outputStack에 넣는다.\n",
    "        이를 통해 큐의 front가 outputStack top에 위치하게 된다.\n",
    "        \"\"\"\n",
    "        if not self.outputStack:\n",
    "            while self.inputStack:\n",
    "                self.outputStack.append(self.inputStack.pop())\n",
    "\n",
    "# 간단 테스트\n",
    "if __name__ == \"__main__\":\n",
    "    myQueue = MyQueue()\n",
    "    myQueue.push(1)      # queue: [1]\n",
    "    myQueue.push(2)      # queue: [1, 2]\n",
    "    print(myQueue.peek())# 1\n",
    "    print(myQueue.pop()) # 1\n",
    "    print(myQueue.empty())# False\n",
    "\n"
   ]
  },
  {
   "cell_type": "markdown",
   "metadata": {},
   "source": [
    "# 3. 교재의 큐 연습문제 전부"
   ]
  },
  {
   "cell_type": "markdown",
   "metadata": {},
   "source": [
    "### 1번"
   ]
  },
  {
   "cell_type": "code",
   "execution_count": 2,
   "metadata": {},
   "outputs": [],
   "source": [
    "class ListQueue:\n",
    "    def __init__(self):\n",
    "        self.__queue = []\n",
    "\n",
    "    def enqueue(self, x):\n",
    "        # 리스트의 맨 앞을 큐의 tail로 사용\n",
    "        self.__queue.insert(0, x)\n",
    "\n",
    "    def dequeue(self):\n",
    "        # 리스트의 맨 끝을 큐의 front로 사용\n",
    "        return self.__queue.pop()\n",
    "\n",
    "    def front(self):\n",
    "        # 큐의 front는 리스트의 맨 끝 원소\n",
    "        return self.__queue[-1]\n",
    "\n",
    "    def isEmpty(self) -> bool:\n",
    "        return len(self.__queue) == 0\n",
    "\n",
    "    def dequeueAll(self):\n",
    "        self.__queue.clear()\n",
    "\n"
   ]
  },
  {
   "cell_type": "markdown",
   "metadata": {},
   "source": [
    "### 2번"
   ]
  },
  {
   "cell_type": "code",
   "execution_count": 3,
   "metadata": {},
   "outputs": [],
   "source": [
    "def is_w_dollar_w_reverse(s: str) -> bool:\n",
    "    # 1) '$' 위치 찾기\n",
    "    idx = s.find('$')\n",
    "    if idx == -1:\n",
    "        return False  # '$'가 없다면 탈락\n",
    "\n",
    "    w = s[:idx]\n",
    "    w_reverse_part = s[idx+1:]\n",
    "\n",
    "    # w와 w_reverse_part 길이가 다르면 바로 False\n",
    "    if len(w) != len(w_reverse_part):\n",
    "        return False\n",
    "\n",
    "    # 2) 큐를 이용해 w_reverse_part를 역으로 확인\n",
    "    from collections import deque\n",
    "    queue = deque(w_reverse_part)  # 오른쪽에서부터 뽑아낼 예정\n",
    "\n",
    "    for ch in w:\n",
    "        if ch != queue.pop():  # 맨 뒤에서 pop\n",
    "            return False\n",
    "    return True\n",
    "\n"
   ]
  },
  {
   "cell_type": "markdown",
   "metadata": {},
   "source": [
    "- 간단 풀이 설명:\n",
    " - 문자열에서 '$' 위치를 찾는다.\n",
    " - 앞부분(w)과 뒷부분(w_reverse_part)의 길이가 같아야 한다.\n",
    " - 뒷부분을 큐(또는 덱)에 넣고, 뒤에서부터 하나씩 꺼내며 w와 동일한지 확인한다.\n",
    " - 모두 일치하면 w$w^R 형태이다.\n"
   ]
  },
  {
   "cell_type": "markdown",
   "metadata": {},
   "source": [
    "### 3번"
   ]
  },
  {
   "cell_type": "code",
   "execution_count": 4,
   "metadata": {},
   "outputs": [],
   "source": [
    "def copyLinkedQueue(a, b):\n",
    "    \"\"\" \n",
    "    a와 b는 각각 LinkedQueue의 인스턴스라고 가정.\n",
    "    a의 원소들을 b에 모두 복사하되,\n",
    "    a는 최종적으로 원상복구 되어야 한다.\n",
    "    \"\"\"\n",
    "    temp = LinkedQueue()\n",
    "    \n",
    "    # a에서 dequeue하여 temp, b에 동시에 enqueue\n",
    "    while not a.isEmpty():\n",
    "        data = a.dequeue()\n",
    "        temp.enqueue(data)\n",
    "        b.enqueue(data)\n",
    "    \n",
    "    # temp에 있던 원소들을 다시 a로 복원\n",
    "    while not temp.isEmpty():\n",
    "        a.enqueue(temp.dequeue())\n",
    "\n"
   ]
  },
  {
   "cell_type": "markdown",
   "metadata": {},
   "source": [
    "\n",
    "- 간단 풀이 설명:\n",
    "- 임시 큐(temp)를 하나 두고, a에서 뽑은 원소를 temp와 b에 동시에 enqueue한다.\n",
    "- 다 뽑은 뒤에는 temp에 들어있는 원소를 다시 a로 옮겨서 a를 원상복구한다."
   ]
  },
  {
   "cell_type": "markdown",
   "metadata": {},
   "source": [
    "### 4번"
   ]
  },
  {
   "cell_type": "code",
   "execution_count": 6,
   "metadata": {},
   "outputs": [],
   "source": [
    "from collections import deque\n",
    "\n",
    "class StackUsingTwoQueues:\n",
    "    def __init__(self):\n",
    "        self.Q1 = deque()  # 주로 pop()할 때 사용하는 큐\n",
    "        self.Q2 = deque()  # push() 시 임시로 사용할 큐\n",
    "\n",
    "    def push(self, x):\n",
    "        # 1) 새 원소를 Q2에 넣는다.\n",
    "        self.Q2.append(x)\n",
    "\n",
    "        # 2) Q1에 있던 모든 원소를 Q2로 옮긴다.\n",
    "        while self.Q1:\n",
    "            self.Q2.append(self.Q1.popleft())\n",
    "\n",
    "        # 3) Q1과 Q2를 교환한다.\n",
    "        self.Q1, self.Q2 = self.Q2, self.Q1\n",
    "\n",
    "    def pop(self):\n",
    "        # Q1에서 하나를 뽑으면 그게 가장 나중에 들어온 원소\n",
    "        if self.isEmpty():\n",
    "            return None  # 또는 예외 처리\n",
    "        return self.Q1.popleft()\n",
    "\n",
    "    def top(self):\n",
    "        # Q1의 맨 앞 원소가 스택의 top\n",
    "        if self.isEmpty():\n",
    "            return None\n",
    "        return self.Q1[0]\n",
    "\n",
    "    def isEmpty(self):\n",
    "        return len(self.Q1) == 0\n",
    "\n",
    "\n"
   ]
  },
  {
   "cell_type": "markdown",
   "metadata": {},
   "source": [
    "- --- 간단 풀이 ---\n",
    "- push(x):\n",
    "-   1) x를 Q2에 넣는다.\n",
    "-   2) Q1의 모든 원소를 Q2로 옮긴다.\n",
    "-   3) Q1과 Q2를 바꾼다.\n",
    "- pop():\n",
    "-   Q1에서 빼면 최근에 push된 원소가 나옴(LIFO)."
   ]
  },
  {
   "cell_type": "markdown",
   "metadata": {},
   "source": [
    "### 5번\n"
   ]
  },
  {
   "cell_type": "code",
   "execution_count": 9,
   "metadata": {},
   "outputs": [],
   "source": [
    "class QueueUsingTwoStacks:\n",
    "    def __init__(self):\n",
    "        self.S1 = []  # 새 원소를 push하는 용도\n",
    "        self.S2 = []  # dequeue할 때 원소를 꺼내는 용도\n",
    "\n",
    "    def enqueue(self, x):\n",
    "        # 새로운 원소는 S1에 쌓는다\n",
    "        self.S1.append(x)\n",
    "\n",
    "    def dequeue(self):\n",
    "        # S2가 비어 있으면 S1의 모든 원소를 이동\n",
    "        if not self.S2:\n",
    "            while self.S1:\n",
    "                self.S2.append(self.S1.pop())\n",
    "        # S2에서 pop한 원소가 가장 먼저 들어온 원소\n",
    "        if self.isEmpty():\n",
    "            return None  # 또는 예외 처리\n",
    "        return self.S2.pop()\n",
    "\n",
    "    def front(self):\n",
    "        # S2의 맨 꼭대기가 큐의 front\n",
    "        # (S2가 비었다면 S1->S2 옮긴 뒤 top 확인)\n",
    "        if not self.S2:\n",
    "            while self.S1:\n",
    "                self.S2.append(self.S1.pop())\n",
    "        if self.isEmpty():\n",
    "            return None\n",
    "        return self.S2[-1]\n",
    "\n",
    "    def isEmpty(self):\n",
    "        return (len(self.S1) == 0 and len(self.S2) == 0)\n",
    "\n",
    "\n"
   ]
  },
  {
   "cell_type": "markdown",
   "metadata": {},
   "source": [
    "---- 5번 코드외에 간단 설명 ---\n",
    "- enqueue(x):\n",
    "-   S1에 push(x)\n",
    "- dequeue():\n",
    "-   1) 만약 S2가 비어있다면 S1의 원소를 모두 pop하여 S2에 push\n",
    "-   2) 그리고 S2에서 pop()한 원소가 큐의 front가 됨"
   ]
  },
  {
   "cell_type": "markdown",
   "metadata": {},
   "source": [
    "### 6번"
   ]
  },
  {
   "cell_type": "markdown",
   "metadata": {},
   "source": [
    "- 정답:\n",
    "  - (일반 큐)\n",
    "    - enqueue() (맨 뒤 삽입) → O(1)\n",
    "    - dequeue() (맨 앞 삭제) → O(1)\n",
    "  - (양방향 Deque, \"가장 효율적\"으로 구현 시)\n",
    "    - 맨 앞/맨 뒤 삽입, 삭제 모두 → O(1)\n",
    "    - 단, 단일 연결 리스트에 tail만 두면 맨 뒤 삭제가 O(n)이 될 수 있으므로, 이중 연결 리스트 또는 front/tail 모두 사용 시 O(1) 가능"
   ]
  },
  {
   "cell_type": "markdown",
   "metadata": {},
   "source": [
    "### 7번\n"
   ]
  },
  {
   "cell_type": "markdown",
   "metadata": {},
   "source": [
    "- 정답:\n",
    "  - enqueue() (맨 뒤 삽입) → O(n)\n",
    "  - dequeue() (맨 앞 삭제) → O(1)"
   ]
  },
  {
   "cell_type": "markdown",
   "metadata": {},
   "source": [
    "### 8번"
   ]
  },
  {
   "cell_type": "code",
   "execution_count": 10,
   "metadata": {},
   "outputs": [],
   "source": [
    "class ListDeque:\n",
    "    def __init__(self):\n",
    "        self.__deque = []\n",
    "\n",
    "    def enqueueFront(self, x):\n",
    "        self.__deque.insert(0, x)   # 맨 앞 삽입\n",
    "\n",
    "    def enqueueBack(self, x):\n",
    "        self.__deque.append(x)      # 맨 뒤 삽입\n",
    "\n",
    "    def dequeueFront(self):\n",
    "        if self.isEmpty():\n",
    "            return None\n",
    "        return self.__deque.pop(0)  # 맨 앞 삭제\n",
    "\n",
    "    def dequeueBack(self):\n",
    "        if self.isEmpty():\n",
    "            return None\n",
    "        return self.__deque.pop()   # 맨 뒤 삭제\n",
    "\n",
    "    def front(self):\n",
    "        if self.isEmpty():\n",
    "            return None\n",
    "        return self.__deque[0]      # 맨 앞 원소\n",
    "\n",
    "    def back(self):\n",
    "        if self.isEmpty():\n",
    "            return None\n",
    "        return self.__deque[-1]     # 맨 뒤 원소\n",
    "\n",
    "    def isEmpty(self) -> bool:\n",
    "        return (len(self.__deque) == 0)\n",
    "\n",
    "    def clear(self):\n",
    "        self.__deque.clear()\n",
    "\n",
    "    def printDeque(self):\n",
    "        print(\"Deque from front:\", end=' ')\n",
    "        for item in self.__deque:\n",
    "            print(item, end=' ')\n",
    "        print()\n"
   ]
  },
  {
   "cell_type": "markdown",
   "metadata": {},
   "source": []
  }
 ],
 "metadata": {
  "kernelspec": {
   "display_name": "Python 3",
   "language": "python",
   "name": "python3"
  },
  "language_info": {
   "codemirror_mode": {
    "name": "ipython",
    "version": 3
   },
   "file_extension": ".py",
   "mimetype": "text/x-python",
   "name": "python",
   "nbconvert_exporter": "python",
   "pygments_lexer": "ipython3",
   "version": "3.9.6"
  },
  "orig_nbformat": 4
 },
 "nbformat": 4,
 "nbformat_minor": 2
}
